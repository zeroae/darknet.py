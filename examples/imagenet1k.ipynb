{
 "cells": [
  {
   "cell_type": "code",
   "execution_count": 3,
   "metadata": {
    "collapsed": true
   },
   "outputs": [],
   "source": [
    "import os\n",
    "import darknet\n",
    "import pydarknet\n",
    "\n",
    "from PIL import Image as PILImage"
   ]
  },
  {
   "cell_type": "code",
   "execution_count": 2,
   "outputs": [],
   "source": [
    "# Darknet is stupid... so all paths are relative at the moment.\n",
    "os.chdir(\"..\")"
   ],
   "metadata": {
    "collapsed": false,
    "pycharm": {
     "name": "#%%\n"
    }
   }
  },
  {
   "cell_type": "code",
   "execution_count": 3,
   "outputs": [],
   "source": [
    "# Load the ImageNet 1k labels/metadata\n",
    "imagenet = darknet.Metadata(\"cfg/imagenet1k.data\")"
   ],
   "metadata": {
    "collapsed": false,
    "pycharm": {
     "name": "#%%\n"
    }
   }
  },
  {
   "cell_type": "code",
   "execution_count": 4,
   "outputs": [],
   "source": [
    "# Load the Classifier\n",
    "n = pydarknet.ImageClassifier(labels=imagenet.classes,\n",
    "                              config_file=\"cfg/darknet53_448.cfg\",\n",
    "                              weights_file=\"weights/darknet53_448.weights\")"
   ],
   "metadata": {
    "collapsed": false,
    "pycharm": {
     "name": "#%%\n"
    }
   }
  },
  {
   "cell_type": "code",
   "execution_count": 5,
   "outputs": [
    {
     "data": {
      "text/plain": "[('malamute', 0.9832896),\n ('Eskimo dog', 0.0043422417),\n ('Siberian husky', 0.0032391667),\n ('Tibetan mastiff', 0.0030777778),\n ('Great Pyrenees', 0.0022481713)]"
     },
     "execution_count": 5,
     "metadata": {},
     "output_type": "execute_result"
    }
   ],
   "source": [
    "img_filename = \"data/dog.jpg\"\n",
    "n.classify(\"data/dog.jpg\", top=5)\n"
   ],
   "metadata": {
    "collapsed": false,
    "pycharm": {
     "name": "#%%\n"
    }
   }
  },
  {
   "cell_type": "code",
   "execution_count": 6,
   "outputs": [
    {
     "data": {
      "text/plain": "[('malamute', 0.9832896),\n ('Eskimo dog', 0.0043422417),\n ('Siberian husky', 0.0032391667),\n ('Tibetan mastiff', 0.0030777778),\n ('Great Pyrenees', 0.0022481713)]"
     },
     "execution_count": 6,
     "metadata": {},
     "output_type": "execute_result"
    }
   ],
   "source": [
    "pil_img = PILImage.open(img_filename)\n",
    "n.classify(pil_img, top=5)"
   ],
   "metadata": {
    "collapsed": false,
    "pycharm": {
     "name": "#%%\n"
    }
   }
  },
  {
   "cell_type": "code",
   "execution_count": 2,
   "outputs": [],
   "source": [
    "try:\n",
    "    import cv2\n",
    "    # Note: Please note that cv2 nd-arrays are h*w*c ordered.\n",
    "    cv2_img = cv2.imread(img_filename)\n",
    "    cv2_img = cv2.cvtColor(cv2_img, cv2.COLOR_BGR2RGB)\n",
    "    n.classify(cv2_img, top=5)\n",
    "except ModuleNotFoundError:\n",
    "    pass"
   ],
   "metadata": {
    "collapsed": false,
    "pycharm": {
     "name": "#%%\n"
    }
   }
  },
  {
   "cell_type": "code",
   "execution_count": 8,
   "outputs": [
    {
     "data": {
      "text/plain": "[('bald eagle', 0.55398),\n ('vulture', 0.21862003),\n ('kite', 0.19144633),\n ('ruddy turnstone', 0.004691909),\n ('ruffed grouse', 0.0033115256)]"
     },
     "execution_count": 8,
     "metadata": {},
     "output_type": "execute_result"
    }
   ],
   "source": [
    "n.classify(\"data/eagle.jpg\", top=5)"
   ],
   "metadata": {
    "collapsed": false,
    "pycharm": {
     "name": "#%%\n"
    }
   }
  },
  {
   "cell_type": "code",
   "execution_count": 9,
   "outputs": [
    {
     "data": {
      "text/plain": "[('electric guitar', 0.9876499),\n ('acoustic guitar', 0.009498796),\n ('banjo', 0.0011737668),\n ('pick', 0.00072627096),\n ('stage', 0.0005768967)]"
     },
     "execution_count": 9,
     "metadata": {},
     "output_type": "execute_result"
    }
   ],
   "source": [
    "import requests\n",
    "majesty_url=\"https://s3-us-west-2.amazonaws.com/static.music-man.com/website/images/instruments/instrument-77.png?1588624445\"\n",
    "img = PILImage.open(requests.get(majesty_url, stream=True).raw)\n",
    "n.classify(img, top=5)"
   ],
   "metadata": {
    "collapsed": false,
    "pycharm": {
     "name": "#%%\n"
    }
   }
  },
  {
   "cell_type": "code",
   "execution_count": null,
   "outputs": [],
   "source": [],
   "metadata": {
    "collapsed": false,
    "pycharm": {
     "name": "#%%\n"
    }
   }
  }
 ],
 "metadata": {
  "kernelspec": {
   "display_name": "Python 3",
   "language": "python",
   "name": "python3"
  },
  "language_info": {
   "codemirror_mode": {
    "name": "ipython",
    "version": 2
   },
   "file_extension": ".py",
   "mimetype": "text/x-python",
   "name": "python",
   "nbconvert_exporter": "python",
   "pygments_lexer": "ipython2",
   "version": "2.7.6"
  }
 },
 "nbformat": 4,
 "nbformat_minor": 0
}