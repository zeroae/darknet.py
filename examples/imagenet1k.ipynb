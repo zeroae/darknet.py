{
 "cells": [
  {
   "cell_type": "code",
   "execution_count": 32,
   "metadata": {
    "collapsed": true
   },
   "outputs": [],
   "source": [
    "import os\n",
    "import fsspec\n",
    "from PIL import Image as PILImage\n",
    "\n",
    "from darknet.py import ImageClassifier"
   ]
  },
  {
   "cell_type": "code",
   "execution_count": 37,
   "metadata": {
    "pycharm": {
     "name": "#%%\n"
    }
   },
   "outputs": [],
   "source": [
    "github_opts= dict(org=\"pjreddie\", repo=\"darknet\", sha=\"master\")\n",
    "filecache_opts = dict(cache_storage=f\"{os.environ['HOME']}/.cache/darknet.py\")"
   ]
  },
  {
   "cell_type": "code",
   "execution_count": 47,
   "outputs": [],
   "source": [
    "# Load the ImageNet 1k labels/metadata\n",
    "with fsspec.open(\"filecache::github://data/imagenet.shortnames.list\",\n",
    "                 filecache=filecache_opts, github=github_opts) as f:\n",
    "    labels = [line.decode().rstrip() for line in f.readlines()[:1000]]"
   ],
   "metadata": {
    "collapsed": false,
    "pycharm": {
     "name": "#%%\n"
    }
   }
  },
  {
   "cell_type": "code",
   "execution_count": 48,
   "metadata": {
    "pycharm": {
     "name": "#%%\n"
    }
   },
   "outputs": [],
   "source": [
    "config_of = fsspec.open(\"filecache::github://cfg/darknet53_448.cfg\",\n",
    "                     filecache=filecache_opts, github=github_opts)\n",
    "weights_of = fsspec.open(\"filecache::https://pjreddie.com/media/files/darknet53_448.weights\",\n",
    "                      filecache=filecache_opts)\n",
    "with config_of as config:\n",
    "    with weights_of as weights:\n",
    "        # Load the Classifier\n",
    "        n = ImageClassifier(labels=labels,\n",
    "                            config_file=config.name,\n",
    "                            weights_file=weights.name)"
   ]
  },
  {
   "cell_type": "code",
   "execution_count": 49,
   "metadata": {
    "pycharm": {
     "name": "#%%\n"
    }
   },
   "outputs": [
    {
     "data": {
      "text/plain": "[('malamute', 0.98354006),\n ('Eskimo dog', 0.0042837244),\n ('Siberian husky', 0.0031863458),\n ('Tibetan mastiff', 0.0030448402),\n ('Great Pyrenees', 0.0022190544)]"
     },
     "execution_count": 49,
     "metadata": {},
     "output_type": "execute_result"
    }
   ],
   "source": [
    "dog_of = fsspec.open(\"filecache::github://data/dog.jpg\",\n",
    "                     filecache=filecache_opts, github=github_opts)\n",
    "with dog_of as dog:\n",
    "    res = n.classify(dog.name, top=5)\n",
    "res"
   ]
  },
  {
   "cell_type": "code",
   "execution_count": 50,
   "metadata": {
    "pycharm": {
     "name": "#%%\n"
    }
   },
   "outputs": [
    {
     "data": {
      "text/plain": "[('malamute', 0.98354006),\n ('Eskimo dog', 0.0042837244),\n ('Siberian husky', 0.0031863458),\n ('Tibetan mastiff', 0.0030448402),\n ('Great Pyrenees', 0.0022190544)]"
     },
     "execution_count": 50,
     "metadata": {},
     "output_type": "execute_result"
    }
   ],
   "source": [
    "with dog_of as dog:\n",
    "    res = n.classify(PILImage.open(dog.name), top=5)\n",
    "res"
   ]
  },
  {
   "cell_type": "code",
   "execution_count": 52,
   "metadata": {
    "pycharm": {
     "name": "#%%\n"
    }
   },
   "outputs": [],
   "source": [
    "try:\n",
    "    import cv2\n",
    "    # Note: Please note that cv2 nd-arrays are h*w*c ordered.\n",
    "    with dog_of as dog:\n",
    "        cv2_img = cv2.imread(dog.name)\n",
    "    cv2_img = cv2.cvtColor(cv2_img, cv2.COLOR_BGR2RGB)\n",
    "    n.classify(cv2_img, top=5)\n",
    "except ModuleNotFoundError:\n",
    "    pass"
   ]
  },
  {
   "cell_type": "code",
   "execution_count": 53,
   "metadata": {
    "pycharm": {
     "name": "#%%\n"
    }
   },
   "outputs": [
    {
     "data": {
      "text/plain": "[('bald eagle', 0.55666465),\n ('vulture', 0.21876547),\n ('kite', 0.18937683),\n ('ruddy turnstone', 0.004589723),\n ('ruffed grouse', 0.0032499917)]"
     },
     "execution_count": 53,
     "metadata": {},
     "output_type": "execute_result"
    }
   ],
   "source": [
    "eagle_of = fsspec.open(\"filecache::github://data/eagle.jpg\",\n",
    "                     filecache=filecache_opts, github=github_opts)\n",
    "with eagle_of as eagle:\n",
    "    res = n.classify(eagle.name, top=5)\n",
    "res\n"
   ]
  },
  {
   "cell_type": "code",
   "execution_count": 54,
   "metadata": {
    "pycharm": {
     "name": "#%%\n"
    }
   },
   "outputs": [
    {
     "data": {
      "text/plain": "[('electric guitar', 0.98759043),\n ('acoustic guitar', 0.009553942),\n ('banjo', 0.0011607071),\n ('pick', 0.0007309786),\n ('stage', 0.00058993115)]"
     },
     "execution_count": 54,
     "metadata": {},
     "output_type": "execute_result"
    }
   ],
   "source": [
    "import requests\n",
    "majesty_url=\"https://s3-us-west-2.amazonaws.com/static.music-man.com/website/images/instruments/instrument-77.png?1588624445\"\n",
    "img = PILImage.open(requests.get(majesty_url, stream=True).raw)\n",
    "n.classify(img, top=5)"
   ]
  },
  {
   "cell_type": "code",
   "execution_count": null,
   "metadata": {
    "pycharm": {
     "name": "#%%\n"
    }
   },
   "outputs": [],
   "source": []
  }
 ],
 "metadata": {
  "kernelspec": {
   "display_name": "Python 3",
   "language": "python",
   "name": "python3"
  },
  "language_info": {
   "codemirror_mode": {
    "name": "ipython",
    "version": 3
   },
   "file_extension": ".py",
   "mimetype": "text/x-python",
   "name": "python",
   "nbconvert_exporter": "python",
   "pygments_lexer": "ipython3",
   "version": "3.8.3"
  }
 },
 "nbformat": 4,
 "nbformat_minor": 1
}